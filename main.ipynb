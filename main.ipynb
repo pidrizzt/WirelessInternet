{
  "nbformat": 4,
  "nbformat_minor": 0,
  "metadata": {
    "colab": {
      "name": "Untitled5.ipynb",
      "provenance": []
    },
    "kernelspec": {
      "name": "python3",
      "display_name": "Python 3"
    },
    "language_info": {
      "name": "python"
    }
  },
  "cells": [
    {
      "cell_type": "code",
      "execution_count": null,
      "metadata": {
        "id": "4O4TMQm15_qQ"
      },
      "outputs": [],
      "source": [
        "# author: luciapintor90@gmail.com\n",
        "from env_variables import input_folder_name, embedded_interfaces, power_ths, only_random, dt_power_th, do_analysis, \\\n",
        "    duration, delta_burst\n",
        "from merge_pkt import merge_pkt, merge_ch\n",
        "from analysis_ds import analysis_ths\n",
        "from get_data_from_filename import group_filenames_same_capture\n",
        "from statistics_ds import make_summary, pcap_statistics\n",
        "from utils import create_missing_folder\n",
        "\n",
        "if __name__ == '__main__':\n",
        "\n",
        "    # manage folders\n",
        "    analysis_folder_name = create_missing_folder('{}_analysis'.format(input_folder_name))\n",
        "    dataset_folder_name = create_missing_folder('{}_dataset'.format(input_folder_name))\n",
        "\n",
        "    # group files from the same capture (but different channel)\n",
        "    file_groups = group_filenames_same_capture(folder_name=input_folder_name)\n",
        "\n",
        "    summary_list = []\n",
        "\n",
        "    if file_groups is not None:\n",
        "\n",
        "        for g in file_groups:\n",
        "            # get dictionary with lists of all packets (divided by channel) from the same capture\n",
        "            # i.e. {1: [pkt1, pkt2, ...], 2: [pkt10, pkt11, ...]}\n",
        "            all_packets = merge_pkt(capture_files=file_groups[g], input_folder_name=input_folder_name,\n",
        "                                    embedded_interfaces=embedded_interfaces)\n",
        "\n",
        "            # plot unfiltered pcap files\n",
        "            pcap_statistics(folder_name=input_folder_name, filename=g + \"-unfiltered.png\",\n",
        "                            pkt_list=all_packets, duration=duration)\n",
        "            print(\"Removed all APs and known interfaces in {}\".format(file_groups[g]))\n",
        "\n",
        "            # threshold analysis\n",
        "            if do_analysis is True:\n",
        "                tmp_summary, filtered_pkt = \\\n",
        "                    analysis_ths(all_packets=all_packets, capture_files=file_groups[g],\n",
        "                                 output_folder_name=analysis_folder_name, power_ths=power_ths,\n",
        "                                 delta_burst=delta_burst, only_random=only_random, merged=True, duration=duration)\n",
        "\n",
        "                print(\"Analysis ended in files {}\".format(file_groups[g]))\n",
        "\n",
        "                # join this capture summary to the summary list\n",
        "                summary_list = summary_list + tmp_summary\n",
        "\n",
        "            # re-frame as dataset: make a list for each channel\n",
        "            tmp_summary, filtered_pkt = analysis_ths(all_packets=all_packets, capture_files=file_groups[g],\n",
        "                                                     output_folder_name=dataset_folder_name, power_ths=[dt_power_th],\n",
        "                                                     delta_burst=delta_burst, only_random=only_random, merged=False,\n",
        "                                                     duration=duration)\n",
        "\n",
        "    if len(summary_list) > 1:\n",
        "        make_summary(analysis_folder_name, summary_list)\n"
      ]
    }
  ]
}