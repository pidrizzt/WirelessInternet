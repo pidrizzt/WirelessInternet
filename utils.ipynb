{
  "nbformat": 4,
  "nbformat_minor": 0,
  "metadata": {
    "colab": {
      "name": "utils.ipynb",
      "provenance": []
    },
    "kernelspec": {
      "name": "python3",
      "display_name": "Python 3"
    },
    "language_info": {
      "name": "python"
    }
  },
  "cells": [
    {
      "cell_type": "code",
      "execution_count": null,
      "metadata": {
        "id": "-7rVfcCB6lHE"
      },
      "outputs": [],
      "source": [
        "import os\n",
        "\n",
        "from numpy import ceil\n",
        "\n",
        "\n",
        "def create_missing_folder(folder_name):\n",
        "    \"\"\"\n",
        "    This function create a folder if it does not exist.\n",
        "    \"\"\"\n",
        "    if not os.path.exists(folder_name):\n",
        "        os.makedirs(folder_name)\n",
        "    return folder_name\n",
        "\n",
        "\n",
        "def get_7th(mac):\n",
        "    \"\"\"\n",
        "    This function returns the seventh bit of a mac address.\n",
        "    :param mac:\n",
        "    :return:\n",
        "    \"\"\"\n",
        "    # decimal value\n",
        "    d_first_octet = int(mac[:2], 16)\n",
        "\n",
        "    # avoid errors if there are less than 2 digits\n",
        "    if d_first_octet < 2:\n",
        "        return 0\n",
        "\n",
        "    first_octet = bin(d_first_octet)\n",
        "    return int(first_octet[-2])\n",
        "\n",
        "\n",
        "def frequency2channel(frequency):\n",
        "    \"\"\"\n",
        "    Given a frequency in MHz, the Wi-Fi channel is returned.\n",
        "    :param frequency:\n",
        "    :return:\n",
        "    \"\"\"\n",
        "    step = 5  # MHz\n",
        "    offset = 2412.0 - (step / 2)  # minimum\n",
        "\n",
        "    if frequency <= offset:\n",
        "        # it could be in ch 1 or out of range\n",
        "        return 1\n",
        "    elif frequency > 2483:\n",
        "        return 14\n",
        "    else:\n",
        "        return int(ceil((frequency - offset) / step))\n"
      ]
    }
  ]
}