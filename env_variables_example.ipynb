{
  "nbformat": 4,
  "nbformat_minor": 0,
  "metadata": {
    "colab": {
      "name": "Untitled3.ipynb",
      "provenance": []
    },
    "kernelspec": {
      "name": "python3",
      "display_name": "Python 3"
    },
    "language_info": {
      "name": "python"
    }
  },
  "cells": [
    {
      "cell_type": "code",
      "execution_count": null,
      "metadata": {
        "id": "YlJBhtbh5bzI"
      },
      "outputs": [],
      "source": [
        "# author: luciapintor90@gmail.com\n",
        "# Rename this file as env_variables.py to change settings\n",
        "import numpy as np\n",
        "\n",
        "# this folder name is used to create 2 folders:\n",
        "# _analysis: it contains merged files with different thresholds\n",
        "# _dataset: it contains a pcap file for each channel filtered with the selected power threshold\n",
        "input_folder_name = 'data'\n",
        "\n",
        "# capture duration (used to scale plots)\n",
        "duration = 20 * 60\n",
        "\n",
        "# time window (in seconds) to consider a packet inside the window\n",
        "delta_burst = 2\n",
        "\n",
        "# different power thresholds for the analysis\n",
        "power_th_start = -110\n",
        "power_th_end = -20\n",
        "step = 10\n",
        "power_ths = np.arange(power_th_start, power_th_end, step)\n",
        "\n",
        "# interfaces of the sniffer (to be removed from the pcap files)\n",
        "embedded_interfaces = [\n",
        "]\n",
        "\n",
        "# if it is set to True, it discards all the non random mac addresses\n",
        "only_random = False\n",
        "\n",
        "# if it is set to True, it makes the analysis ('_analysis' folder)\n",
        "# if it is set to False, it prepares data for the dataset ('_dataset' folder)\n",
        "do_analysis = True\n",
        "\n",
        "# select the threshold for the dataset version\n",
        "dt_power_th = -60\n"
      ]
    }
  ]
}